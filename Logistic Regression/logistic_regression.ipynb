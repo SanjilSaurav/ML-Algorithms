{
 "cells": [
  {
   "cell_type": "markdown",
   "metadata": {},
   "source": [
    "## Logistic Regression"
   ]
  },
  {
   "cell_type": "code",
   "execution_count": 1,
   "metadata": {},
   "outputs": [],
   "source": [
    "import numpy as np\n",
    "import matplotlib.pyplot as plt\n",
    "import copy\n",
    "import math\n",
    "%matplotlib inline\n"
   ]
  },
  {
   "cell_type": "code",
   "execution_count": 2,
   "metadata": {},
   "outputs": [],
   "source": [
    "def load_data(filepath):\n",
    "    data = np.loadtxt(filepath, delimiter=',')\n",
    "    X = data[:,:2]\n",
    "    Y = data[:,2]\n",
    "    return X,Y"
   ]
  },
  {
   "cell_type": "code",
   "execution_count": 3,
   "metadata": {},
   "outputs": [],
   "source": [
    "x_train, y_train = load_data('data/students.txt')"
   ]
  },
  {
   "cell_type": "code",
   "execution_count": 4,
   "metadata": {},
   "outputs": [
    {
     "name": "stdout",
     "output_type": "stream",
     "text": [
      "Shape of x_train is: (100, 2)\n",
      "Shape of y_train is: (100,)\n",
      "Number of training examples (m) = 100 \n"
     ]
    }
   ],
   "source": [
    "print('Shape of x_train is: '+ str(x_train.shape))\n",
    "print('Shape of y_train is: '+ str(y_train.shape))\n",
    "print('Number of training examples (m) = %d ' % (len(y_train)))"
   ]
  },
  {
   "cell_type": "code",
   "execution_count": 5,
   "metadata": {},
   "outputs": [
    {
     "name": "stdout",
     "output_type": "stream",
     "text": [
      "[1. 1. 1. 1. 1.]\n",
      "[0. 0. 0. 0. 0.]\n"
     ]
    }
   ],
   "source": [
    "admitted = y_train == 1\n",
    "not_admitted = y_train == 0\n",
    "\n",
    "tempx = y_train[admitted]\n",
    "tempxn = y_train[not_admitted]\n",
    "\n",
    "print(tempx[:5])\n",
    "print(tempxn[:5])"
   ]
  },
  {
   "cell_type": "code",
   "execution_count": 6,
   "metadata": {},
   "outputs": [
    {
     "data": {
      "image/png": "[encoded data removed]",
      "text/plain": [
       "<Figure size 640x480 with 1 Axes>"
      ]
     },
     "metadata": {},
     "output_type": "display_data"
    }
   ],
   "source": [
    "# Plotting the data \n",
    "plt.plot(x_train[admitted, 0], x_train[admitted, 1], 'k+', label='Admitted')\n",
    "plt.plot(x_train[not_admitted, 0], x_train[not_admitted, 1], 'yo', label='Not Admitted')\n",
    "plt.ylabel('Exam 2 score')\n",
    "plt.xlabel('Exam 1 score')\n",
    "plt.legend(loc='upper right')\n",
    "plt.show()"
   ]
  },
  {
   "cell_type": "code",
   "execution_count": 7,
   "metadata": {},
   "outputs": [],
   "source": [
    "# sigmoid function\n",
    "# 'z' here is a numpy array of any size\n",
    "def sigmoid(z):\n",
    "    return 1/(1 + np.exp(-z))"
   ]
  },
  {
   "cell_type": "code",
   "execution_count": 8,
   "metadata": {},
   "outputs": [],
   "source": [
    "# Function to compute cost for logistic regression\n",
    "def cost_function(x, y, w, b):\n",
    "    m,n = x.shape\n",
    "    cost = 0\n",
    "    for i in range(m):\n",
    "        z = np.dot(x[i], w) + b\n",
    "        f_wb = sigmoid(z)\n",
    "        cost += -y[i]*np.log(f_wb) - (1 - y[i])*np.log(1 - f_wb)\n",
    "    return cost/m"
   ]
  },
  {
   "cell_type": "code",
   "execution_count": 9,
   "metadata": {},
   "outputs": [
    {
     "name": "stdout",
     "output_type": "stream",
     "text": [
      "Cost: 0.693\n"
     ]
    }
   ],
   "source": [
    "# Checking cost function\n",
    "m,n = x_train.shape\n",
    "w_init = np.zeros(n)\n",
    "b_init = 0\n",
    "cost = cost_function(x_train, y_train, w_init, b_init)\n",
    "print('Cost: {:.3f}'.format(cost))"
   ]
  },
  {
   "cell_type": "code",
   "execution_count": 10,
   "metadata": {},
   "outputs": [],
   "source": [
    "# Compute gradient for 1 iteration over all training examples\n",
    "def calculate_gradient(x, y, w, b):\n",
    "    m,n = x.shape\n",
    "    dj_dw = np.zeros(w.shape)\n",
    "    dj_db = 0\n",
    "    for i in range(m):\n",
    "        f_wb_i = sigmoid(np.dot(x[i], w) + b)\n",
    "        err_i = f_wb_i - y[i]\n",
    "        for j in range(n):\n",
    "            dj_dw[j] = dj_dw[j] + err_i * x[i, j]\n",
    "        dj_db = dj_db + err_i\n",
    "    dj_dw /= m\n",
    "    dj_db /= m\n",
    "\n",
    "    return dj_dw, dj_db"
   ]
  },
  {
   "cell_type": "code",
   "execution_count": 11,
   "metadata": {},
   "outputs": [
    {
     "name": "stdout",
     "output_type": "stream",
     "text": [
      "dj_db: -0.1\n",
      "dj_dw: [-12.00921658929115, -11.262842205513591]\n"
     ]
    }
   ],
   "source": [
    "w_init = np.zeros(n)\n",
    "b_init = 0\n",
    "dj_dw, dj_db = calculate_gradient(x_train, y_train, w_init, b_init)\n",
    "print(f'dj_db: {dj_db}')\n",
    "print(f'dj_dw: {dj_dw.tolist()}')"
   ]
  },
  {
   "cell_type": "code",
   "execution_count": 12,
   "metadata": {},
   "outputs": [],
   "source": [
    "def gradient_descent(x, y, w, b, alpha, itrs):\n",
    "    m = x.shape[0]\n",
    "    J_track = []\n",
    "    w_track = []\n",
    "    for i in range(itrs):\n",
    "        dj_dw, dj_db = calculate_gradient(x, y, w, b)\n",
    "        w -= alpha * dj_dw\n",
    "        b -= alpha * dj_db\n",
    "\n",
    "        if i<100000:\n",
    "            cost = cost_function(x, y, w, b)\n",
    "            J_track.append(cost)\n",
    "\n",
    "        if i%math.ceil(itrs/10) == 0 or i ==(itrs - 1):\n",
    "            w_track.append(w)\n",
    "            print(f\"Iteration {i:4}: Cost {float(J_track[-1]):8.2f}\")\n",
    "    return w,b, J_track, w_track"
   ]
  },
  {
   "cell_type": "code",
   "execution_count": 13,
   "metadata": {},
   "outputs": [
    {
     "name": "stdout",
     "output_type": "stream",
     "text": [
      "Iteration    0: Cost     0.96\n"
     ]
    },
    {
     "name": "stderr",
     "output_type": "stream",
     "text": [
      "C:\\Users\\saura\\AppData\\Local\\Temp\\ipykernel_14672\\3190375621.py:16: DeprecationWarning: Conversion of an array with ndim > 0 to a scalar is deprecated, and will error in future. Ensure you extract a single element from your array before performing this operation. (Deprecated NumPy 1.25.)\n",
      "  print(f\"Iteration {i:4}: Cost {float(J_track[-1]):8.2f}\")\n"
     ]
    },
    {
     "name": "stdout",
     "output_type": "stream",
     "text": [
      "Iteration 1000: Cost     0.31\n",
      "Iteration 2000: Cost     0.30\n",
      "Iteration 3000: Cost     0.30\n",
      "Iteration 4000: Cost     0.30\n",
      "Iteration 5000: Cost     0.30\n",
      "Iteration 6000: Cost     0.30\n",
      "Iteration 7000: Cost     0.30\n",
      "Iteration 8000: Cost     0.30\n",
      "Iteration 9000: Cost     0.30\n",
      "Iteration 9999: Cost     0.30\n"
     ]
    }
   ],
   "source": [
    "np.random.seed(1) #This guarantees that the random numbers generated by np.random are the same each time the code is run.\n",
    "w_init = 0.01 * (np.random.rand(2).reshape(-1,1) - 0.5)\n",
    "b_init = -8\n",
    "\n",
    "iterations = 10000\n",
    "alpha = 0.001\n",
    "w, b, j_track, _ = gradient_descent(x_train, y_train, w_init, b_init, alpha, iterations)"
   ]
  },
  {
   "cell_type": "code",
   "execution_count": 14,
   "metadata": {},
   "outputs": [],
   "source": [
    "def predict(x,w,b):\n",
    "    m,n = x.shape\n",
    "    pr = np.zeros(m)\n",
    "    for i in range(m):\n",
    "        z_wb = np.dot(x[i],w) + b\n",
    "        f_wb = sigmoid(z_wb)\n",
    "        pr[i] = 1 if f_wb > 0.5 else 0\n",
    "\n",
    "    return pr\n",
    "        "
   ]
  },
  {
   "cell_type": "code",
   "execution_count": 15,
   "metadata": {},
   "outputs": [
    {
     "name": "stdout",
     "output_type": "stream",
     "text": [
      "Train Accuracy: 92.000000\n"
     ]
    }
   ],
   "source": [
    "predictions = predict(x_train, w, b)\n",
    "print('Train Accuracy: %f'%(np.mean(predictions == y_train) * 100))"
   ]
  },
  {
   "cell_type": "code",
   "execution_count": null,
   "metadata": {},
   "outputs": [],
   "source": []
  }
 ],
 "metadata": {
  "kernelspec": {
   "display_name": "base",
   "language": "python",
   "name": "python3"
  },
  "language_info": {
   "codemirror_mode": {
    "name": "ipython",
    "version": 3
   },
   "file_extension": ".py",
   "mimetype": "text/x-python",
   "name": "python",
   "nbconvert_exporter": "python",
   "pygments_lexer": "ipython3",
   "version": "3.12.7"
  }
 },
 "nbformat": 4,
 "nbformat_minor": 2
}
